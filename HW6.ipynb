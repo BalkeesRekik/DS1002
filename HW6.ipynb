{
  "cells": [
    {
      "cell_type": "markdown",
      "metadata": {
        "id": "view-in-github",
        "colab_type": "text"
      },
      "source": [
        "<a href=\"https://colab.research.google.com/github/BalkeesRekik/DS1002/blob/main/HW6.ipynb\" target=\"_parent\"><img src=\"https://colab.research.google.com/assets/colab-badge.svg\" alt=\"Open In Colab\"/></a>"
      ]
    },
    {
      "cell_type": "markdown",
      "metadata": {
        "id": "L_nKffgWPs-1"
      },
      "source": [
        "## Pandas exercises 1\n",
        "\n",
        "1. Import dependencies"
      ]
    },
    {
      "cell_type": "code",
      "execution_count": 3,
      "metadata": {
        "id": "hASl6yoNPs-2"
      },
      "outputs": [],
      "source": [
        "import pandas as pd\n",
        "import seaborn as sns\n",
        "import matplotlib.pyplot as plt"
      ]
    },
    {
      "cell_type": "markdown",
      "metadata": {
        "id": "33KUt_fEPs-2"
      },
      "source": [
        "---"
      ]
    },
    {
      "cell_type": "code",
      "execution_count": 4,
      "metadata": {
        "id": "ZZmr1aIoPs-3"
      },
      "outputs": [],
      "source": [
        "list = [98, 24, 46, 87, 33]"
      ]
    },
    {
      "cell_type": "markdown",
      "metadata": {
        "id": "jGSEPEqXPs-3"
      },
      "source": [
        "2. Convert `list` to a pandas series using `pd.Series`"
      ]
    },
    {
      "cell_type": "code",
      "execution_count": 7,
      "metadata": {
        "id": "nZ1y9HF6Ps-3",
        "colab": {
          "base_uri": "https://localhost:8080/"
        },
        "outputId": "7000e41e-7711-4119-c29f-83d348a194de"
      },
      "outputs": [
        {
          "output_type": "stream",
          "name": "stdout",
          "text": [
            "0    98\n",
            "1    24\n",
            "2    46\n",
            "3    87\n",
            "4    33\n",
            "dtype: int64\n"
          ]
        }
      ],
      "source": [
        "series = pd.Series(list)\n",
        "print(series)"
      ]
    },
    {
      "cell_type": "markdown",
      "metadata": {
        "id": "rORNi5YyPs-4"
      },
      "source": [
        "3. Take the above series and add an index that starts at 2 and steps by 3"
      ]
    },
    {
      "cell_type": "code",
      "execution_count": 15,
      "metadata": {
        "id": "YC8f3lAMPs-4",
        "colab": {
          "base_uri": "https://localhost:8080/"
        },
        "outputId": "9b434ed8-12cc-4e34-d64a-60f53dfd93a1"
      },
      "outputs": [
        {
          "output_type": "stream",
          "name": "stdout",
          "text": [
            "2     98\n",
            "5     24\n",
            "8     46\n",
            "11    87\n",
            "14    33\n",
            "dtype: int64\n"
          ]
        }
      ],
      "source": [
        "index = range(2, 17 , 3)\n",
        "series.index = index\n",
        "\n",
        "print (series)"
      ]
    },
    {
      "cell_type": "markdown",
      "source": [
        "**I found 17 by multiplying the length of the series by the steps and adding 2 since that is the starting point.**"
      ],
      "metadata": {
        "id": "MFDYpxQ7m_Ng"
      }
    },
    {
      "cell_type": "markdown",
      "metadata": {
        "id": "2P199KkwPs-4"
      },
      "source": [
        "4. Create a dictionary of 4 names, ages, and careers   \n",
        "Convert this dictionary to a pandas dataframe: `df`.  \n",
        "Print the dataframe."
      ]
    },
    {
      "cell_type": "code",
      "execution_count": 16,
      "metadata": {
        "id": "lWoGNi5hPs-5",
        "colab": {
          "base_uri": "https://localhost:8080/"
        },
        "outputId": "39ab5444-236d-43e8-90ac-2a0b5dce1445"
      },
      "outputs": [
        {
          "output_type": "stream",
          "name": "stdout",
          "text": [
            "    Names  Ages     Careers\n",
            "0  Maryam    35   Architect\n",
            "1    Asma    33     Teacher\n",
            "2   Rahma    31   Dietitian\n",
            "3   Fatma    30  Researcher\n"
          ]
        }
      ],
      "source": [
        "data = { \"Names\" : [\"Maryam\", \"Asma\", \"Rahma\", \"Fatma\"],\n",
        "        \"Ages\" : [35, 33, 31, 30],\n",
        "         \"Careers\" :[\"Architect\", \"Teacher\", \"Dietitian\", \"Researcher\"]}\n",
        "\n",
        "df = pd.DataFrame(data)\n",
        "\n",
        "print(df)\n"
      ]
    },
    {
      "cell_type": "markdown",
      "metadata": {
        "id": "TD-Ej1K_Ps-5"
      },
      "source": [
        "5. Name the index of `df` 'participant_id'.  \n",
        "Print `df`."
      ]
    },
    {
      "cell_type": "code",
      "execution_count": 21,
      "metadata": {
        "id": "_54NO6pRPs-5",
        "colab": {
          "base_uri": "https://localhost:8080/"
        },
        "outputId": "04c1f3dd-ed48-402d-a6ae-9a6a50708927"
      },
      "outputs": [
        {
          "output_type": "stream",
          "name": "stdout",
          "text": [
            "                 Names  Ages     Careers\n",
            "participant_id                          \n",
            "0               Maryam    35   Architect\n",
            "1                 Asma    33     Teacher\n",
            "2                Rahma    31   Dietitian\n",
            "3                Fatma    30  Researcher\n"
          ]
        }
      ],
      "source": [
        "df.index.name = \"participant_id\"\n",
        "print(df)"
      ]
    },
    {
      "cell_type": "markdown",
      "metadata": {
        "id": "-JXKN55IPs-5"
      },
      "source": [
        "6. Use a pandas function to determine the data types of the columns of `df`."
      ]
    },
    {
      "cell_type": "code",
      "execution_count": 23,
      "metadata": {
        "id": "pmbPdPYmPs-5",
        "colab": {
          "base_uri": "https://localhost:8080/"
        },
        "outputId": "5bba4bdd-1559-40bd-d40d-6b0d2f43e468"
      },
      "outputs": [
        {
          "output_type": "stream",
          "name": "stdout",
          "text": [
            "Names      object\n",
            "Ages        int64\n",
            "Careers    object\n",
            "dtype: object\n"
          ]
        }
      ],
      "source": [
        "data_types = df.dtypes\n",
        "print(data_types)"
      ]
    },
    {
      "cell_type": "markdown",
      "metadata": {
        "id": "67Yv1vrcPs-5"
      },
      "source": [
        "7. Using bracket notation, reference column `name`"
      ]
    },
    {
      "cell_type": "code",
      "execution_count": 25,
      "metadata": {
        "id": "KvYDyocgPs-6",
        "colab": {
          "base_uri": "https://localhost:8080/"
        },
        "outputId": "98552d58-e06e-4e0b-b8ec-293e24edfd9c"
      },
      "outputs": [
        {
          "output_type": "stream",
          "name": "stdout",
          "text": [
            "participant_id\n",
            "0    Maryam\n",
            "1      Asma\n",
            "2     Rahma\n",
            "3     Fatma\n",
            "Name: Names, dtype: object\n"
          ]
        }
      ],
      "source": [
        "reference = df[\"Names\"]\n",
        "print(reference)"
      ]
    },
    {
      "cell_type": "markdown",
      "metadata": {
        "id": "m3cxo1_DPs-6"
      },
      "source": [
        "8. Using dot notation, reference column `name`"
      ]
    },
    {
      "cell_type": "code",
      "execution_count": 26,
      "metadata": {
        "id": "1GWDNZpDPs-6",
        "colab": {
          "base_uri": "https://localhost:8080/"
        },
        "outputId": "906a86de-bdbb-4bb5-bf28-b419990c4739"
      },
      "outputs": [
        {
          "output_type": "stream",
          "name": "stdout",
          "text": [
            "participant_id\n",
            "0    Maryam\n",
            "1      Asma\n",
            "2     Rahma\n",
            "3     Fatma\n",
            "Name: Names, dtype: object\n"
          ]
        }
      ],
      "source": [
        "reference.dot = df.Names\n",
        "print(reference.dot)"
      ]
    },
    {
      "cell_type": "markdown",
      "metadata": {
        "id": "QXcydAo-Ps-6"
      },
      "source": [
        "8. Reference column `name` and have it returned in a dataframe."
      ]
    },
    {
      "cell_type": "code",
      "execution_count": 29,
      "metadata": {
        "id": "Es6jw5eKPs-6",
        "colab": {
          "base_uri": "https://localhost:8080/"
        },
        "outputId": "0e62ef02-8b07-4202-c8b7-3b5baf6e466e"
      },
      "outputs": [
        {
          "output_type": "stream",
          "name": "stdout",
          "text": [
            "                 Names\n",
            "participant_id        \n",
            "0               Maryam\n",
            "1                 Asma\n",
            "2                Rahma\n",
            "3                Fatma\n"
          ]
        }
      ],
      "source": [
        "names_df = df[[\"Names\"]]\n",
        "print(names_df)\n"
      ]
    },
    {
      "cell_type": "markdown",
      "metadata": {
        "id": "FGvwXkmsPs-6"
      },
      "source": [
        "9. Show the 3rd element in column `career`."
      ]
    },
    {
      "cell_type": "code",
      "execution_count": 31,
      "metadata": {
        "id": "9DFRMXJ-Ps-6",
        "colab": {
          "base_uri": "https://localhost:8080/"
        },
        "outputId": "c2d3e587-36b8-43d5-b9f8-8c2de7869af0"
      },
      "outputs": [
        {
          "output_type": "stream",
          "name": "stdout",
          "text": [
            "Dietitian\n"
          ]
        }
      ],
      "source": [
        "third_career = df.loc[2, \"Careers\"]\n",
        "print(third_career)"
      ]
    },
    {
      "cell_type": "markdown",
      "source": [
        "10.  Load the `iris` dataset that we used in class.  Use `iris` as the name of your data frame."
      ],
      "metadata": {
        "id": "rRH599bKtjbE"
      }
    },
    {
      "cell_type": "code",
      "source": [
        "iris = sns.load_dataset('iris')\n",
        "print(iris)"
      ],
      "metadata": {
        "id": "zzf2X8hptu02",
        "colab": {
          "base_uri": "https://localhost:8080/"
        },
        "outputId": "ebfe7725-231a-4203-9ec9-2dbfcb76bf72"
      },
      "execution_count": 4,
      "outputs": [
        {
          "output_type": "stream",
          "name": "stdout",
          "text": [
            "     sepal_length  sepal_width  petal_length  petal_width    species\n",
            "0             5.1          3.5           1.4          0.2     setosa\n",
            "1             4.9          3.0           1.4          0.2     setosa\n",
            "2             4.7          3.2           1.3          0.2     setosa\n",
            "3             4.6          3.1           1.5          0.2     setosa\n",
            "4             5.0          3.6           1.4          0.2     setosa\n",
            "..            ...          ...           ...          ...        ...\n",
            "145           6.7          3.0           5.2          2.3  virginica\n",
            "146           6.3          2.5           5.0          1.9  virginica\n",
            "147           6.5          3.0           5.2          2.0  virginica\n",
            "148           6.2          3.4           5.4          2.3  virginica\n",
            "149           5.9          3.0           5.1          1.8  virginica\n",
            "\n",
            "[150 rows x 5 columns]\n"
          ]
        }
      ]
    },
    {
      "cell_type": "markdown",
      "source": [
        "11.  What is the correlation between the variables `sepal_length` and `sepal_width` for all the irises?"
      ],
      "metadata": {
        "id": "AKz6-jVWtvSB"
      }
    },
    {
      "cell_type": "code",
      "source": [
        "correlation = iris[[\"sepal_length\", \"sepal_width\"]].corr()\n",
        "print(correlation)"
      ],
      "metadata": {
        "id": "hee42cCiuUaQ",
        "colab": {
          "base_uri": "https://localhost:8080/"
        },
        "outputId": "13778773-6494-4606-a626-1ab913b88ec0"
      },
      "execution_count": 5,
      "outputs": [
        {
          "output_type": "stream",
          "name": "stdout",
          "text": [
            "              sepal_length  sepal_width\n",
            "sepal_length       1.00000     -0.11757\n",
            "sepal_width       -0.11757      1.00000\n"
          ]
        }
      ]
    },
    {
      "cell_type": "markdown",
      "source": [
        "**The correlation is -0.11757 but it was printed out as a matrix istead of just the value.**"
      ],
      "metadata": {
        "id": "y-cc9Lfh94qu"
      }
    },
    {
      "cell_type": "markdown",
      "source": [
        "12.  Which of the three species has the highest correlation between `sepal_length` and `sepal_width`?  Show any calculations you use to support your answer."
      ],
      "metadata": {
        "id": "0FftiYs-uU0S"
      }
    },
    {
      "cell_type": "code",
      "source": [
        "setosa_corr = iris[iris[\"species\"] == \"setosa\"][[\"sepal_length\", \"sepal_width\"]].corr().iloc[0,1]\n",
        "versicolor_corr = iris[iris[\"species\"]== \"versicolor\"][[\"sepal_length\", \"sepal_width\"]].corr().iloc[0,1]\n",
        "virginica_corr = iris[iris[\"species\"]== \"virginica\"][[\"sepal_length\", \"sepal_width\"]].corr().iloc[0,1]\n",
        "\n",
        "max_corr_species, max_corr_value = max((\"setosa\",setosa_corr), (\"versicolor\", versicolor_corr) , (\"virginica\", virginica_corr))\n",
        "\n",
        "print(\"Species with the highest correlation: \", max_corr_species)\n",
        "print(\"Correlation: \", max_corr_value)"
      ],
      "metadata": {
        "id": "TFGICsBQulQ-",
        "colab": {
          "base_uri": "https://localhost:8080/"
        },
        "outputId": "329dc4e4-20d9-4885-bfb9-3faaa7c213d8"
      },
      "execution_count": 7,
      "outputs": [
        {
          "output_type": "stream",
          "name": "stdout",
          "text": [
            "Species with the highest correlation:  virginica\n",
            "Correlation:  0.45722781639411325\n"
          ]
        }
      ]
    },
    {
      "cell_type": "markdown",
      "source": [
        "**I found the correlation coefficient for each species independently and then compared them and found the maximum value**"
      ],
      "metadata": {
        "id": "YXwv7zZhDTl0"
      }
    },
    {
      "cell_type": "markdown",
      "source": [
        "13.  Among the four variables, the two that are most negatively correlated (overall) are `sepal_width` and `petal_length`.  (How do we know this?)  Determine the same thing but for each species separately:  for each species, which two variables have the most negative (or the least positive) correlation?  Again, include calculations to support your answer."
      ],
      "metadata": {
        "id": "ZEwy0920u1NY"
      }
    },
    {
      "cell_type": "code",
      "source": [
        "overall_correlation = iris.corr(numeric_only=True) # The code did not work initally until I changed it to numeric only\n",
        "min_overall_correlation = overall_correlation.min().nsmallest(2)\n",
        "\n",
        "print(\"The most negatively correlated variables: \", min_overall_correlation)\n",
        "\n",
        "species_min_correlation = {}\n",
        "\n",
        "for species in iris[\"species\"]:\n",
        "  species_correlation = iris[iris[\"species\"] == species].corr(numeric_only=True)\n",
        "  species_min_correlation[species] = species_correlation.min().nsmallest(2)\n",
        "\n",
        "print(\"The most negatively correlated variables for each species: \", species_min_correlation)\n"
      ],
      "metadata": {
        "id": "bcqtPTtHvjLI",
        "colab": {
          "base_uri": "https://localhost:8080/"
        },
        "outputId": "2ddfa13f-ebbe-4f9d-ad31-069307ac9e24"
      },
      "execution_count": 8,
      "outputs": [
        {
          "output_type": "stream",
          "name": "stdout",
          "text": [
            "The most negatively correlated variables:  sepal_width    -0.42844\n",
            "petal_length   -0.42844\n",
            "dtype: float64\n",
            "The most negatively correlated variables for each species:  {'setosa': sepal_width     0.1777\n",
            "petal_length    0.1777\n",
            "dtype: float64, 'versicolor': sepal_length    0.525911\n",
            "sepal_width     0.525911\n",
            "dtype: float64, 'virginica': sepal_length    0.281108\n",
            "petal_width     0.281108\n",
            "dtype: float64}\n"
          ]
        }
      ]
    },
    {
      "cell_type": "markdown",
      "source": [
        "14.  Once again, the variables `sepal_width` and `petal_length` are negatively correlated.  But for each individual species, these two variables are positively correlated.  How is this possible?  Explain this phenomenon.  Use a data visualization if it helps.\n"
      ],
      "metadata": {
        "id": "cK_OhSaRvxhE"
      }
    },
    {
      "cell_type": "markdown",
      "source": [
        "**This phenomenon could be due to variations among different species in the dataset. When considering all species together, the correlation between sepal width and petal length might seem negative. However, upon analyzing each species seperatley, it's possible to observe a positive relationship between these variable within each species. The reason behind this could be the disticntive traits and charateristics of each species. For instance, some species might naturally possess wider sepals and longer petals, therefore resulting in a positive correlation withing that specofoc species.**"
      ],
      "metadata": {
        "id": "GW9W5SeAS_l9"
      }
    },
    {
      "cell_type": "code",
      "source": [
        "for species in iris[\"species\"].unique():\n",
        "  species_data = iris[iris[\"species\"] == species]\n",
        "  plt.scatter(species_data[\"sepal_width\"], species_data[\"petal_length\"], label = species)\n",
        "\n",
        "plt.show()"
      ],
      "metadata": {
        "colab": {
          "base_uri": "https://localhost:8080/",
          "height": 434
        },
        "id": "0kb3hyMESbls",
        "outputId": "5887fa43-6c1c-470d-c2ff-92845438f165"
      },
      "execution_count": 94,
      "outputs": [
        {
          "output_type": "display_data",
          "data": {
            "text/plain": [
              "<Figure size 640x480 with 1 Axes>"
            ],
            "image/png": "[encoded data removed]"
          },
          "metadata": {}
        }
      ]
    },
    {
      "cell_type": "markdown",
      "source": [
        "Citations:\n",
        "\n",
        "[reference](https://https://stackoverflow.com/questions/33417991/pandas-why-are-double-brackets-needed-to-select-column-after-boolean-indexing#:~:text=For%20df%5B%5Bcolname(s,double%20brackets%20return%20a%20dataframe.)\n",
        "\n",
        "[nsmallest](https://https://pandas.pydata.org/pandas-docs/stable/reference/api/pandas.DataFrame.nsmallest.html)\n",
        "\n",
        "[.unique](https://https://pandas.pydata.org/pandas-docs/stable/reference/api/pandas.unique.html)\n",
        "\n"
      ],
      "metadata": {
        "id": "hmTXvV2Hy44g"
      }
    }
  ],
  "metadata": {
    "kernelspec": {
      "display_name": "Python 3.8.9 64-bit",
      "language": "python",
      "name": "python3"
    },
    "language_info": {
      "codemirror_mode": {
        "name": "ipython",
        "version": 3
      },
      "file_extension": ".py",
      "mimetype": "text/x-python",
      "name": "python",
      "nbconvert_exporter": "python",
      "pygments_lexer": "ipython3",
      "version": "3.8.9"
    },
    "orig_nbformat": 4,
    "vscode": {
      "interpreter": {
        "hash": "31f2aee4e71d21fbe5cf8b01ff0e069b9275f58929596ceb00d14d90e3e16cd6"
      }
    },
    "colab": {
      "provenance": [],
      "include_colab_link": true
    }
  },
  "nbformat": 4,
  "nbformat_minor": 0
}