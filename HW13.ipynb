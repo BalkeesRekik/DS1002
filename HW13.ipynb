{
  "nbformat": 4,
  "nbformat_minor": 0,
  "metadata": {
    "colab": {
      "provenance": [],
      "include_colab_link": true
    },
    "kernelspec": {
      "name": "python3",
      "display_name": "Python 3"
    },
    "language_info": {
      "name": "python"
    }
  },
  "cells": [
    {
      "cell_type": "markdown",
      "metadata": {
        "id": "view-in-github",
        "colab_type": "text"
      },
      "source": [
        "<a href=\"https://colab.research.google.com/github/BalkeesRekik/DS1002/blob/main/HW13.ipynb\" target=\"_parent\"><img src=\"https://colab.research.google.com/assets/colab-badge.svg\" alt=\"Open In Colab\"/></a>"
      ]
    },
    {
      "cell_type": "markdown",
      "source": [
        "## Assignment:  Classes\n",
        "### Due Sunday 28 April at 10pm"
      ],
      "metadata": {
        "id": "5Vy93BSp9Tum"
      }
    },
    {
      "cell_type": "markdown",
      "source": [
        "1.  Define a class called `Person` that has attributes `lastName`, `firstName`, `mother`, and `father`.  Both `mother` and `father` should have default value `unknown`.\n",
        "\n",
        "  Include a `__str__()` function that returns a string of the form '`firstName` `lastName`'.\n",
        "\n",
        "  Include a `__repr__()` function that returns a string that can be evaluated to recreate the `Person` object.\n",
        "\n"
      ],
      "metadata": {
        "id": "vcj5XQAI9Wsb"
      }
    },
    {
      "cell_type": "code",
      "source": [
        "class Person:\n",
        "    def __init__(self, lastName, firstName, mother='unknown', father='unknown'):\n",
        "        self.lastName = lastName\n",
        "        self.firstName = firstName\n",
        "        self.mother = mother\n",
        "        self.father = father\n",
        "\n",
        "    def __str__(self):\n",
        "        return f\"{self.firstName} {self.lastName}\"\n",
        "\n",
        "    def __repr__(self):\n",
        "        return (f\"Person(lastName='{self.lastName}', firstName='{self.firstName}', \"\n",
        "                f\"mother='{self.mother}', father='{self.father}')\")"
      ],
      "metadata": {
        "id": "mjHDwHv3EpVe"
      },
      "execution_count": 1,
      "outputs": []
    },
    {
      "cell_type": "markdown",
      "source": [
        "Create a person (i.e., a `Person` object) called `p` with unknown parents.  (You will need to give your person a first and last name.) Check the type of `p`.  Include all inputs and outputs."
      ],
      "metadata": {
        "id": "-ppMsEIVHINl"
      }
    },
    {
      "cell_type": "code",
      "source": [
        "p = Person(\"Kim\", \"Daisy\")\n",
        "print(p)\n",
        "print(type(p))"
      ],
      "metadata": {
        "id": "5bwid_6gHIBH",
        "colab": {
          "base_uri": "https://localhost:8080/"
        },
        "outputId": "ff1bfa44-eafd-425d-c1e3-1318bf99fe3b"
      },
      "execution_count": 5,
      "outputs": [
        {
          "output_type": "stream",
          "name": "stdout",
          "text": [
            "Daisy Kim\n",
            "<class '__main__.Person'>\n"
          ]
        }
      ]
    },
    {
      "cell_type": "markdown",
      "source": [
        "Verify that your `__str__` and `__repr__` functions are doing what they are supposed to do.  Include all inputs and outputs."
      ],
      "metadata": {
        "id": "Z6zlUC3xRtal"
      }
    },
    {
      "cell_type": "code",
      "source": [
        "# To verify __str__\n",
        "print(p)\n",
        "\n",
        "# To verify __repr__\n",
        "print(repr(p))"
      ],
      "metadata": {
        "id": "jZO0dBQYRs-K",
        "colab": {
          "base_uri": "https://localhost:8080/"
        },
        "outputId": "f1943bbd-5cf5-4d25-a3a5-c55ec7659cbd"
      },
      "execution_count": 7,
      "outputs": [
        {
          "output_type": "stream",
          "name": "stdout",
          "text": [
            "Daisy Kim\n",
            "Person(lastName='Kim', firstName='Daisy', mother='unknown', father='unknown')\n"
          ]
        }
      ]
    },
    {
      "cell_type": "markdown",
      "source": [
        "Suppose the mother of `p` has been found and is named Taylor Swift.  Create a new person named Taylor Swift, and make her the mother of `p`:\n",
        "\n",
        "```\n",
        "> p.mother\n",
        "'Taylor Swift'\n",
        "```"
      ],
      "metadata": {
        "id": "1mOAThQiHzoQ"
      }
    },
    {
      "cell_type": "code",
      "source": [
        "p.mother = Person(\"Swift\", \"Taylor\")\n",
        "print(f\"Mother of {p.firstName}: {p.mother.firstName} {p.mother.lastName}\")"
      ],
      "metadata": {
        "id": "NYbDOorpHymz",
        "colab": {
          "base_uri": "https://localhost:8080/"
        },
        "outputId": "d4e49ea9-15cf-44d5-8828-675f6831e17d"
      },
      "execution_count": 9,
      "outputs": [
        {
          "output_type": "stream",
          "name": "stdout",
          "text": [
            "Mother of Daisy: Taylor Swift\n"
          ]
        }
      ]
    },
    {
      "cell_type": "markdown",
      "source": [
        "2.  Add some methods to your class.  Start by copying the `class` definition you already wrote.  Then, inside the `class` definition:\n",
        "\n",
        "  (a) Write a method called `unknownParent()` which returns `True` if any parent is 'unknown' and `False` otherwise.\n",
        "\n",
        "  (b) Write a method called `maternalGrandmother()` which returns the mother's mother.  If the mother is unknown, it should return 'unknown'.\n",
        "\n"
      ],
      "metadata": {
        "id": "1g1pcrmFHzGh"
      }
    },
    {
      "cell_type": "code",
      "source": [
        "class Person:\n",
        "    def __init__(self, lastName, firstName, mother='unknown', father='unknown'):\n",
        "        self.lastName = lastName\n",
        "        self.firstName = firstName\n",
        "        self.mother = mother\n",
        "        self.father = father\n",
        "\n",
        "    def __str__(self):\n",
        "        return f\"{self.firstName} {self.lastName}\"\n",
        "\n",
        "    def __repr__(self):\n",
        "        return (f\"Person(lastName='{self.lastName}', firstName='{self.firstName}', \"\n",
        "                f\"mother='{self.mother}', father='{self.father}')\")\n",
        "\n",
        "    def unknownParent(self):\n",
        "        return self.mother == 'unknown' or self.father == 'unknown'\n",
        "\n",
        "    def maternalGrandmother(self):\n",
        "        if type(self.mother) is Person:\n",
        "            return self.mother.mother\n",
        "        else:\n",
        "            return 'unknown'\n",
        "\n",
        "p = Person(\"Kim\", \"Daisy\")\n",
        "p.mother = Person(\"Swift\", \"Taylor\")\n",
        "print(p.unknownParent())\n",
        "print(p.maternalGrandmother())\n",
        "\n",
        "\n"
      ],
      "metadata": {
        "id": "7mIxJGwwKTpv",
        "colab": {
          "base_uri": "https://localhost:8080/"
        },
        "outputId": "d6bb61bc-3424-4955-83c0-ed5c8642e3b9"
      },
      "execution_count": 1,
      "outputs": [
        {
          "output_type": "stream",
          "name": "stdout",
          "text": [
            "True\n",
            "unknown\n"
          ]
        }
      ]
    },
    {
      "cell_type": "markdown",
      "source": [
        "Create enough `Person` objects to test whether your methods are working properly.  Show all your inputs and outputs.  It is up to you to demonstrate that you have thoroughly tested the code.  You may use additional code and/or text chunks if it helps."
      ],
      "metadata": {
        "id": "l9-4gxd8FxAQ"
      }
    },
    {
      "cell_type": "code",
      "source": [
        "class Person:\n",
        "    def __init__(self, lastName, firstName, mother='unknown', father='unknown'):\n",
        "        self.lastName = lastName\n",
        "        self.firstName = firstName\n",
        "        self.mother = mother\n",
        "        self.father = father\n",
        "\n",
        "    def __str__(self):\n",
        "        return f\"{self.firstName} {self.lastName}\"\n",
        "\n",
        "    def __repr__(self):\n",
        "        return (f\"Person(lastName='{self.lastName}', firstName='{self.firstName}', \"\n",
        "                f\"mother='{self.mother}', father='{self.father}')\")\n",
        "\n",
        "    def unknownParent(self):\n",
        "        return self.mother == 'unknown' or self.father == 'unknown'\n",
        "\n",
        "    def maternalGrandmother(self):\n",
        "        if type(self.mother) is Person:\n",
        "            return self.mother.mother\n",
        "        else:\n",
        "            return 'unknown'\n",
        "\n",
        "# Test\n",
        "\n",
        "katy_perry = Person(\"Perry\", \"Katy\")\n",
        "miley_cyrus = Person(\"Cyrus\", \"Miley\")\n",
        "\n",
        "mom_taylor = Person(\"Swift\", \"Taylor\", mother=katy_perry)\n",
        "dad_taylor = Person(\"Biden\", \"Joe\", mother=miley_cyrus)\n",
        "\n",
        "daisy_kim = Person(\"Kim\", \"Daisy\", mother=mom_taylor, father=dad_taylor)\n",
        "\n",
        "print(daisy_kim)\n",
        "print(f\"Daisy's Father: {daisy_kim.father.firstName} {daisy_kim.father.lastName}\")\n",
        "print(f\"Daisy's Mother: {daisy_kim.mother.firstName} {daisy_kim.mother.lastName}\")\n",
        "\n",
        "print(f\"Daisy: {daisy_kim.unknownParent()}\")\n",
        "print(f\"Daisy's maternal grandmother: {daisy_kim.maternalGrandmother()}\")\n",
        "\n"
      ],
      "metadata": {
        "id": "gX1qpcKzFwoZ",
        "colab": {
          "base_uri": "https://localhost:8080/"
        },
        "outputId": "621831ca-b8cf-45c8-ef39-d253fbf228f8"
      },
      "execution_count": 10,
      "outputs": [
        {
          "output_type": "stream",
          "name": "stdout",
          "text": [
            "Daisy Kim\n",
            "Daisy's Father: Joe Biden\n",
            "Daisy's Mother: Taylor Swift\n",
            "Daisy: False\n",
            "Daisy's maternal grandmother: Katy Perry\n"
          ]
        }
      ]
    }
  ]
}