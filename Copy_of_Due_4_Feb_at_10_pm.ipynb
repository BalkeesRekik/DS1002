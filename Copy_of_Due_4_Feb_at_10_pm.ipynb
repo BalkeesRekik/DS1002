{
  "nbformat": 4,
  "nbformat_minor": 0,
  "metadata": {
    "colab": {
      "provenance": [],
      "include_colab_link": true
    },
    "kernelspec": {
      "name": "python3",
      "display_name": "Python 3"
    },
    "language_info": {
      "name": "python"
    }
  },
  "cells": [
    {
      "cell_type": "markdown",
      "metadata": {
        "id": "view-in-github",
        "colab_type": "text"
      },
      "source": [
        "<a href=\"https://colab.research.google.com/github/BalkeesRekik/DS1002/blob/main/Copy_of_Due_4_Feb_at_10_pm.ipynb\" target=\"_parent\"><img src=\"https://colab.research.google.com/assets/colab-badge.svg\" alt=\"Open In Colab\"/></a>"
      ]
    },
    {
      "cell_type": "markdown",
      "source": [
        "## DS 1002 homework due Sunday Feb 4 at 10 pm\n"
      ],
      "metadata": {
        "id": "zAw2bmn-TjFJ"
      }
    },
    {
      "cell_type": "markdown",
      "source": [
        "\n",
        "The notebook from Wednesday's class is in my GitHib repository, including the little script we wrote at the end to find mangos in a list of fruit.  The file is called `MorePythonBasics.ipynb`.\n",
        "\n",
        "(By the way I wondered if the correct spelling was \"mangos\" or \"mangoes\" and I found [this](https://www.mango.org/blog-mangos-or-mangoes/)!  Who knew?  There's a National Mango Board!  And they're prepared to adjudicate this and other difficult mango-related questions.)\n",
        "\n",
        "\n"
      ],
      "metadata": {
        "id": "Cmf4xleCSWCu"
      }
    },
    {
      "cell_type": "markdown",
      "source": [
        "### Problem 1:  finding fruit\n",
        "\n",
        "Adapt the function we wrote in class so that it takes two arguments,\n",
        "\n",
        "`fruit` and `hungryfor` ,\n",
        "\n",
        "and then searches through the list `fruit` for the item `hungryfor`.  The line that calls the function should look like\n",
        "\n",
        "`find_fruit(food, hungryfor)`\n",
        "\n",
        "Make it print out the results in the same way, so for example if `food` is what we entered in class and `hungryfor = \"tomatoes\"` then the output will be\n",
        "\n",
        "```python\n",
        "No tomatoes here.\n",
        "No tomatoes here.\n",
        "No tomatoes here.\n",
        "No tomatoes here.\n",
        "No tomatoes here.\n",
        "```\n",
        "Test your code by changing the values of `food` and `hungryfor` and make sure the output is what you expect.  Show a few outputs, each in its own code chunk.\n",
        "\n"
      ],
      "metadata": {
        "id": "rJLyGryAThhp"
      }
    },
    {
      "cell_type": "code",
      "source": [
        "fruits= [\"banana\", \"pineapple\", \"apple\", \"watermelon\", \"orange\"]\n",
        "\n",
        "hungryfor= \"pineapple\"\n",
        "\n",
        "def find_fruit(fruits, hungryfor):\n",
        "  for fruit in fruits:\n",
        "    if fruit== hungryfor:\n",
        "      print (\"Yum, \" + hungryfor)\n",
        "    else:\n",
        "      print (\"No \" + hungryfor + \":(\")\n",
        "\n",
        "find_fruit(fruits, hungryfor)\n"
      ],
      "metadata": {
        "id": "YXwLLFCt6H2f",
        "colab": {
          "base_uri": "https://localhost:8080/"
        },
        "outputId": "21ae1236-4ea2-423c-a20d-00bac44310e3"
      },
      "execution_count": 55,
      "outputs": [
        {
          "output_type": "stream",
          "name": "stdout",
          "text": [
            "No pineapple:(\n",
            "Yum, pineapple\n",
            "No pineapple:(\n",
            "No pineapple:(\n",
            "No pineapple:(\n"
          ]
        }
      ]
    },
    {
      "cell_type": "code",
      "source": [
        "# put your first function call here, and make more code chunks for additional function calls\n",
        "fruits= [\"banana\", \"pineapple\", \"apple\", \"watermelon\", \"orange\"]\n",
        "\n",
        "hungryfor= \"banana\"\n",
        "\n",
        "def find_fruit(fruits, hungryfor):\n",
        "  for fruit in fruits:\n",
        "    if fruit== hungryfor:\n",
        "      print (\"Yum, \" + hungryfor)\n",
        "    else:\n",
        "      print (\"No \" + hungryfor + \":(\")\n",
        "\n",
        "find_fruit(fruits, hungryfor)"
      ],
      "metadata": {
        "colab": {
          "base_uri": "https://localhost:8080/"
        },
        "id": "6HN4MX67JXHZ",
        "outputId": "4703b617-9f24-4d84-9931-7ebb104c2dab"
      },
      "execution_count": 51,
      "outputs": [
        {
          "output_type": "stream",
          "name": "stdout",
          "text": [
            "Yum, banana\n",
            "No banana:(\n",
            "No banana:(\n",
            "No banana:(\n",
            "No banana:(\n"
          ]
        }
      ]
    },
    {
      "cell_type": "markdown",
      "source": [
        "#### Notes\n",
        "1. Once you have run a code chunk in the notebook, it will remember that it has been run.  You don't have to call the function in the same code chunk where the function is defined.  In other words, to call the function with new inputs you can simply make a new code chunk, change the inputs, and call the function.  *You don't have to retype the definition of the function each time.*\n",
        "\n",
        "2. Make sure you clean things up when you're done, so you don't include old code that doesn't work or old incorrect outputs.\n"
      ],
      "metadata": {
        "id": "AMp-a1ym6W7w"
      }
    },
    {
      "cell_type": "markdown",
      "source": [
        "### Problem 2:  the `input()` function\n",
        "\n",
        "(a) Programming gets way more fun when you start to interact with your own programs!  Here is a function that lets you start doing that.  Run the following code and see what happens:\n"
      ],
      "metadata": {
        "id": "R-s9cZ6GYWNX"
      }
    },
    {
      "cell_type": "code",
      "source": [
        "input()\n",
        "print(\"Hello there!\")"
      ],
      "metadata": {
        "id": "IEK8O2qNYkXn",
        "colab": {
          "base_uri": "https://localhost:8080/"
        },
        "outputId": "e0822df6-142c-4cbb-bcf4-71b402dd96f1"
      },
      "execution_count": 50,
      "outputs": [
        {
          "output_type": "stream",
          "name": "stdout",
          "text": [
            "hi\n",
            "Hello there!\n"
          ]
        }
      ]
    },
    {
      "cell_type": "markdown",
      "source": [
        "(b) As you just saw, the code waits for you to enter something before it continues.  If you want to actually use the input in the code, you should assign its value to a variable:"
      ],
      "metadata": {
        "id": "sktZu8wWzFF6"
      }
    },
    {
      "cell_type": "code",
      "source": [
        "message = input()\n",
        "print(message)"
      ],
      "metadata": {
        "id": "fMmBkzbyz9Ty"
      },
      "execution_count": null,
      "outputs": []
    },
    {
      "cell_type": "markdown",
      "source": [
        "(c) Now you can start interacting.  Write some code that asks the user what they are hungry for (using a print statement), and then takes the user input, and then runs the `find_fruit` function from the previous code block using the user input as the `hungryfor` variable.  Test your code, and then include a few different outputs that demonstrate that the code works."
      ],
      "metadata": {
        "id": "ny41z-dQYmjQ"
      }
    },
    {
      "cell_type": "code",
      "source": [
        "fruits= [\"banana\", \"pineapple\", \"apple\", \"watermelon\", \"orange\"]\n",
        "\n",
        "user_input= input(\"What are you hungry for?\")\n",
        "print(\"You are looking for \" + user_input)\n",
        "\n",
        "def find_fruit(fruits, user_input):\n",
        "  for fruit in fruits:\n",
        "    if fruit== user_input:\n",
        "      print (\"Yum, \" + user_input)\n",
        "    else:\n",
        "      print (\"No \" + user_input + \":(\")\n",
        "\n",
        "find_fruit(fruits, user_input)\n",
        "\n",
        "\n",
        "\n",
        "\n"
      ],
      "metadata": {
        "id": "SKAVoAZ00xOx",
        "colab": {
          "base_uri": "https://localhost:8080/"
        },
        "outputId": "2d6b2167-8820-4534-f0f5-c070dbbaf918"
      },
      "execution_count": 17,
      "outputs": [
        {
          "output_type": "stream",
          "name": "stdout",
          "text": [
            "what are you hungry for?orange\n",
            "You are looking for orange\n",
            "No orange:(\n",
            "No orange:(\n",
            "No orange:(\n",
            "No orange:(\n",
            "Yum, orange\n"
          ]
        }
      ]
    },
    {
      "cell_type": "code",
      "source": [
        "# run it here, and add more code chunks for more runs\n",
        "fruits= [\"banana\", \"pineapple\", \"apple\", \"watermelon\", \"orange\"]\n",
        "\n",
        "user_input= input(\"What are you hungry for?\")\n",
        "print(\"You are looking for \" + user_input)\n",
        "\n",
        "def find_fruit(fruits, user_input):\n",
        "  for fruit in fruits:\n",
        "    if fruit== user_input:\n",
        "      print (\"Yum, \" + user_input)\n",
        "    else:\n",
        "      print (\"No \" + user_input + \":(\")\n",
        "\n",
        "find_fruit(fruits, user_input)\n"
      ],
      "metadata": {
        "id": "sQQVP1oa5dR7",
        "colab": {
          "base_uri": "https://localhost:8080/"
        },
        "outputId": "c3c57791-6c34-4d0b-fe70-9c7992956175"
      },
      "execution_count": 19,
      "outputs": [
        {
          "output_type": "stream",
          "name": "stdout",
          "text": [
            "What are you hungry for?watermelon\n",
            "You are looking for watermelon\n",
            "No watermelon:(\n",
            "No watermelon:(\n",
            "No watermelon:(\n",
            "Yum, watermelon\n",
            "No watermelon:(\n"
          ]
        }
      ]
    },
    {
      "cell_type": "code",
      "source": [
        "fruits= [\"banana\", \"pineapple\", \"apple\", \"watermelon\", \"orange\"]\n",
        "\n",
        "user_input= input(\"What are you hungry for?\")\n",
        "print(\"You are looking for \" + user_input)\n",
        "\n",
        "def find_fruit(fruits, user_input):\n",
        "  for fruit in fruits:\n",
        "    if fruit== user_input:\n",
        "      print (\"Yum, \" + user_input)\n",
        "    else:\n",
        "      print (\"No \" + user_input + \":(\")\n",
        "\n",
        "find_fruit(fruits, user_input)"
      ],
      "metadata": {
        "colab": {
          "base_uri": "https://localhost:8080/"
        },
        "id": "zfV3zG7DMAzl",
        "outputId": "9e509466-2e15-4cbc-c9e6-a39f40e6e472"
      },
      "execution_count": 20,
      "outputs": [
        {
          "output_type": "stream",
          "name": "stdout",
          "text": [
            "What are you hungry for?kiwi\n",
            "You are looking for kiwi\n",
            "No kiwi:(\n",
            "No kiwi:(\n",
            "No kiwi:(\n",
            "No kiwi:(\n",
            "No kiwi:(\n"
          ]
        }
      ]
    },
    {
      "cell_type": "markdown",
      "source": [
        "### Problem 3:  ratings  \n",
        "Write a piece of code which prompts a user with the question \"What is your rating? (1-10)\" and then asks for user input.  Let's say the input is 3.  Once the input is received, print out a message that says.\n",
        "\n",
        "\"Your rating is *** .\"\n",
        "\n",
        "Obviously, your program should print the number of stars corresponding to the input!  If the input is 5, it should print\n",
        "\n",
        "\"Your rating is ***** .\"\n",
        "\n",
        "Show at least two outputs of your code."
      ],
      "metadata": {
        "id": "5CWOlHBz0xoZ"
      }
    },
    {
      "cell_type": "code",
      "source": [
        "# put code here\n",
        "user_input1 = input(\"What is your rating? (1-10): \")\n",
        "user_rating = int(user_input1)\n",
        "\n",
        "if 1 <= user_rating <= 10:\n",
        "  print(\"Your rating is \" + \"*\" * user_rating)\n",
        "else:\n",
        "  print(\"Invalid rating\")\n",
        "\n",
        "\n",
        "\n"
      ],
      "metadata": {
        "id": "MCWnTAUW2Gin",
        "colab": {
          "base_uri": "https://localhost:8080/"
        },
        "outputId": "18196720-2a61-4b1a-b8f1-ccc08de7b6aa"
      },
      "execution_count": 53,
      "outputs": [
        {
          "output_type": "stream",
          "name": "stdout",
          "text": [
            "What is your rating? (1-10): 5\n",
            "Your rating is *****\n"
          ]
        }
      ]
    },
    {
      "cell_type": "code",
      "source": [
        "user_input1 = input(\"What is your rating? (1-10): \")\n",
        "user_rating = int(user_input1)\n",
        "\n",
        "if 1 <= user_rating <= 10:\n",
        "  print(\"Your rating is \" + \"*\" * user_rating)\n",
        "else:\n",
        "  print(\"Invalid rating\")"
      ],
      "metadata": {
        "colab": {
          "base_uri": "https://localhost:8080/"
        },
        "id": "nke0esVMcuhh",
        "outputId": "ebfb669b-f0d6-455b-c19a-0f54e58ccd90"
      },
      "execution_count": 54,
      "outputs": [
        {
          "output_type": "stream",
          "name": "stdout",
          "text": [
            "What is your rating? (1-10): 9\n",
            "Your rating is *********\n"
          ]
        }
      ]
    },
    {
      "cell_type": "code",
      "source": [
        "# you might have to copy the code to show another output\n",
        "# (unless you figure out another way to do it)"
      ],
      "metadata": {
        "id": "nxm67oCk8Ukn"
      },
      "execution_count": null,
      "outputs": []
    },
    {
      "cell_type": "markdown",
      "source": [
        "You do not have to do this as part of the assignment, but one thing to think about with any code that has **interactivity** is that you want to make it **robust**.  This means you should imagine someone is *trying* to break your code, and you should try to make it as indestructible as possible.\n",
        "\n",
        "What will happen to your code if someone enters 3.5?  Or -12?  Or \"nonsense\"?  Test it and see.  Think about how you might guard against errors.\n"
      ],
      "metadata": {
        "id": "VRfc9puT2yac"
      }
    },
    {
      "cell_type": "markdown",
      "source": [
        "**The if/else condition will guard against inetegers outside the range [1, 10] (except for decimals) by writing the text\n",
        "\"invalid rating\". I included an example down below.**\n",
        "\n"
      ],
      "metadata": {
        "id": "rkJLQo6Ec5SN"
      }
    },
    {
      "cell_type": "code",
      "source": [
        "user_input1 = input(\"What is your rating? (1-10)\")\n",
        "user_rating = int(user_input1)\n",
        "\n",
        "if 1 <= user_rating <= 10:\n",
        "  print(\"Your rating is \" + \"*\" * user_rating)\n",
        "else:\n",
        "  print(\"Invalid rating\")"
      ],
      "metadata": {
        "colab": {
          "base_uri": "https://localhost:8080/"
        },
        "id": "0QhxJkDvdf5a",
        "outputId": "d930ad8a-22e4-41d2-c044-75a7f4fa62c2"
      },
      "execution_count": 49,
      "outputs": [
        {
          "output_type": "stream",
          "name": "stdout",
          "text": [
            "What is your rating? (1-10)-12\n",
            "Invalid rating\n"
          ]
        }
      ]
    }
  ]
}