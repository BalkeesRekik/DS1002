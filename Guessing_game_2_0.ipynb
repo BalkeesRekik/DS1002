{
  "nbformat": 4,
  "nbformat_minor": 0,
  "metadata": {
    "colab": {
      "provenance": [],
      "authorship_tag": "ABX9TyP4FODOSfVRTJVXydAhwb51",
      "include_colab_link": true
    },
    "kernelspec": {
      "name": "python3",
      "display_name": "Python 3"
    },
    "language_info": {
      "name": "python"
    }
  },
  "cells": [
    {
      "cell_type": "markdown",
      "metadata": {
        "id": "view-in-github",
        "colab_type": "text"
      },
      "source": [
        "<a href=\"https://colab.research.google.com/github/BalkeesRekik/DS1002/blob/main/Guessing_game_2_0.ipynb\" target=\"_parent\"><img src=\"https://colab.research.google.com/assets/colab-badge.svg\" alt=\"Open In Colab\"/></a>"
      ]
    },
    {
      "cell_type": "code",
      "execution_count": null,
      "metadata": {
        "id": "N3VleWVztD0P"
      },
      "outputs": [],
      "source": [
        "import random\n",
        "\n",
        "random_number = random.randint(0, 100)\n",
        "print(\"The computer has chosen a random number\")\n",
        "num_guesses = 0\n",
        "\n",
        "while True:\n",
        "  player_input = input(\"Please enter a number between 0 and 100: \")\n",
        "\n",
        "  if player_input.isdigit():\n",
        "      player_input = int(player_input)\n",
        "      num_guesses += 1\n",
        "\n",
        "      if player_input == random_number:\n",
        "        print(\"You win in \", num_guesses, \"guesses! \")\n",
        "        break\n",
        "\n",
        "      elif player_input > random_number:\n",
        "        print(\"Your guess is too high, try again.\")\n",
        "\n",
        "      elif player_input < random_number:\n",
        "        print(\"Your guess is too low, try again.\")\n",
        "  else:\n",
        "    print(\"Please enter a number within the range [0,100].\")\n",
        "\n",
        "#it took me an hour and 30 minutes to complete the assignment."
      ]
    }
  ]
}