{
  "nbformat": 4,
  "nbformat_minor": 0,
  "metadata": {
    "colab": {
      "provenance": [],
      "include_colab_link": true
    },
    "kernelspec": {
      "name": "python3",
      "display_name": "Python 3"
    },
    "language_info": {
      "name": "python"
    }
  },
  "cells": [
    {
      "cell_type": "markdown",
      "metadata": {
        "id": "view-in-github",
        "colab_type": "text"
      },
      "source": [
        "<a href=\"https://colab.research.google.com/github/BalkeesRekik/DS1002/blob/main/Copy_of_14_TextGeneration.ipynb\" target=\"_parent\"><img src=\"https://colab.research.google.com/assets/colab-badge.svg\" alt=\"Open In Colab\"/></a>"
      ]
    },
    {
      "cell_type": "markdown",
      "source": [
        "## Final homework assignment:  generating text from a corpus\n",
        "\n",
        "Due Friday 3 May at 5 pm"
      ],
      "metadata": {
        "id": "tWbrZqoW5281"
      }
    },
    {
      "cell_type": "markdown",
      "source": [
        "We begin by loading all of Shakespeare's plays into a text file, and separating them into individual words.  This is made easy by the fact that someone already made a giant text file of these plays for us, and put it online.\n",
        "\n",
        "[Note that by changing the url in the following code chunk, you can load any text file that lives online in this way . . . see below.]\n",
        "\n",
        "Run the following code.  It should output a list of ten words, starting with 'From' and ending with 'rose'."
      ],
      "metadata": {
        "id": "7tMMjgkjF7gk"
      }
    },
    {
      "cell_type": "code",
      "source": [
        "from urllib.request import urlopen            #package for reading info from the web\n",
        "url='https://ocw.mit.edu/ans7870/6/6.006/s08/lecturenotes/files/t8.shakespeare.txt'   #web address\n",
        "text = urlopen(url).read().decode('utf-8')    #open web address, read file, convert to text\n",
        "shakespeare_words=text.split()[1651:]         #split text into words (not including preamble)\n",
        "shakespeare_words[:10]                        #display the first 10 words"
      ],
      "metadata": {
        "id": "PoW71ljm2GS-",
        "colab": {
          "base_uri": "https://localhost:8080/"
        },
        "outputId": "42235772-3d71-4c01-8c8b-22818ed34c97"
      },
      "execution_count": 1,
      "outputs": [
        {
          "output_type": "execute_result",
          "data": {
            "text/plain": [
              "['From',\n",
              " 'fairest',\n",
              " 'creatures',\n",
              " 'we',\n",
              " 'desire',\n",
              " 'increase,',\n",
              " 'That',\n",
              " 'thereby',\n",
              " \"beauty's\",\n",
              " 'rose']"
            ]
          },
          "metadata": {},
          "execution_count": 1
        }
      ]
    },
    {
      "cell_type": "markdown",
      "source": [
        "## 1. `nextwords` practice\n",
        "\n",
        "Create a practice function called `createNextwordsPractice` which takes a list of words called `wordlist` and returns a dictionary called `nextwordsPractice`. The keys of `nextwordsPractice` should be all the words in `wordlist`, and the value for any given key should be a list of all the words that follow the key word somewhere in the original `wordlist`.\n",
        "\n"
      ],
      "metadata": {
        "id": "AIeohQaAHRF8"
      }
    },
    {
      "cell_type": "code",
      "source": [
        "def createNextwordsPractice(wordlist):\n",
        "  nextwordsPractice = {}\n",
        "  for i in range(len(wordlist)-1):\n",
        "    key = wordlist[i]\n",
        "    next_word = wordlist[i+1]\n",
        "    if key in nextwordsPractice:\n",
        "      nextwordsPractice[key].append(next_word)\n",
        "    else:\n",
        "        nextwordsPractice[key] = [next_word]\n",
        "  return nextwordsPractice\n",
        "\n",
        "# Test\n",
        "print(createNextwordsPractice(shakespeare_words[:10]  ))"
      ],
      "metadata": {
        "id": "2XZa2K3C3InW",
        "colab": {
          "base_uri": "https://localhost:8080/"
        },
        "outputId": "33f4d61d-b6cc-4ac1-c894-eb35b5a592c4"
      },
      "execution_count": 8,
      "outputs": [
        {
          "output_type": "stream",
          "name": "stdout",
          "text": [
            "{'From': ['fairest'], 'fairest': ['creatures'], 'creatures': ['we'], 'we': ['desire'], 'desire': ['increase,'], 'increase,': ['That'], 'That': ['thereby'], 'thereby': [\"beauty's\"], \"beauty's\": ['rose']}\n"
          ]
        }
      ]
    },
    {
      "cell_type": "markdown",
      "source": [
        "Run the following code:"
      ],
      "metadata": {
        "id": "FH3N2raWjtfd"
      }
    },
    {
      "cell_type": "code",
      "source": [
        "practice = createNextwordsPractice(shakespeare_words)\n",
        "practice['From']"
      ],
      "metadata": {
        "id": "P3M8beYAjiie",
        "colab": {
          "base_uri": "https://localhost:8080/"
        },
        "outputId": "b1c0cb10-6f96-4274-ce41-75ac70c91896"
      },
      "execution_count": 9,
      "outputs": [
        {
          "output_type": "execute_result",
          "data": {
            "text/plain": [
              "['fairest',\n",
              " 'his',\n",
              " 'sullen',\n",
              " 'limits',\n",
              " 'hands',\n",
              " 'whence',\n",
              " 'where',\n",
              " 'me',\n",
              " 'this',\n",
              " 'thy',\n",
              " 'hence',\n",
              " 'thee,',\n",
              " 'you',\n",
              " 'heaven',\n",
              " 'her',\n",
              " 'simple',\n",
              " 'whence',\n",
              " 'below',\n",
              " 'lowest',\n",
              " 'courtly',\n",
              " 'son',\n",
              " 'the',\n",
              " 'the',\n",
              " 'Sicyon,',\n",
              " 'Alexandria',\n",
              " 'Silvius,',\n",
              " 'mine',\n",
              " 'the',\n",
              " 'firm',\n",
              " 'Egypt',\n",
              " 'Antony',\n",
              " 'thine',\n",
              " 'that',\n",
              " 'my',\n",
              " 'me',\n",
              " 'henceforth',\n",
              " 'tyrant',\n",
              " 'seventeen',\n",
              " 'miserable',\n",
              " 'whom',\n",
              " 'my',\n",
              " 'whence,',\n",
              " 'me',\n",
              " 'me',\n",
              " 'slaves',\n",
              " 'every',\n",
              " 'rascals',\n",
              " 'whom',\n",
              " 'where',\n",
              " \"th'\",\n",
              " 'Rome',\n",
              " 'off',\n",
              " 'these',\n",
              " 'twelve',\n",
              " \"th'\",\n",
              " 'whence?',\n",
              " 'Rome.',\n",
              " 'thy',\n",
              " 'Gallia',\n",
              " 'fairies',\n",
              " 'off',\n",
              " \"th'\",\n",
              " 'most',\n",
              " 'thy',\n",
              " 'youth',\n",
              " 'every',\n",
              " 'whose',\n",
              " 'so',\n",
              " 'one',\n",
              " 'this',\n",
              " 'the',\n",
              " 'east',\n",
              " 'action',\n",
              " 'my',\n",
              " 'this',\n",
              " 'Leonati',\n",
              " 'her',\n",
              " 'chance',\n",
              " 'south',\n",
              " 'our',\n",
              " 'whence',\n",
              " 'the',\n",
              " 'top',\n",
              " 'this',\n",
              " 'our',\n",
              " 'that',\n",
              " 'me,',\n",
              " 'fashion',\n",
              " 'the',\n",
              " 'another',\n",
              " 'Hamlet?',\n",
              " 'whence',\n",
              " 'whom',\n",
              " \"Rumour's\",\n",
              " 'whence',\n",
              " 'the',\n",
              " 'a',\n",
              " 'a',\n",
              " 'enemies',\n",
              " 'every',\n",
              " 'this',\n",
              " 'the',\n",
              " 'open',\n",
              " 'whom',\n",
              " \"glist'ring\",\n",
              " 'our',\n",
              " 'him,',\n",
              " 'his',\n",
              " 'him,',\n",
              " 'camp',\n",
              " 'this',\n",
              " 'off',\n",
              " 'helmet',\n",
              " 'him',\n",
              " 'off',\n",
              " 'Lionel',\n",
              " 'John',\n",
              " 'famous',\n",
              " 'envious',\n",
              " 'whence',\n",
              " 'thence',\n",
              " 'bought',\n",
              " 'thee,',\n",
              " 'top',\n",
              " 'thence',\n",
              " 'meaning',\n",
              " \"treason's\",\n",
              " 'such',\n",
              " 'thee',\n",
              " 'Ireland',\n",
              " \"Clifford's\",\n",
              " 'your',\n",
              " 'London',\n",
              " 'whence',\n",
              " 'off',\n",
              " 'whence',\n",
              " 'Scotland',\n",
              " 'such',\n",
              " 'worthy',\n",
              " 'these',\n",
              " 'giving',\n",
              " 'France?',\n",
              " 'Ravenspurgh',\n",
              " 'shelves',\n",
              " 'those',\n",
              " 'his',\n",
              " 'sincere',\n",
              " 'every',\n",
              " 'foreign',\n",
              " 'princes',\n",
              " 'these',\n",
              " 'any',\n",
              " 'Ampthill,',\n",
              " 'your',\n",
              " 'hence',\n",
              " 'her',\n",
              " 'henceforth',\n",
              " 'France',\n",
              " 'whom',\n",
              " 'that',\n",
              " 'first',\n",
              " 'north',\n",
              " 'all',\n",
              " 'a',\n",
              " 'his',\n",
              " 'France',\n",
              " 'forth',\n",
              " 'whose',\n",
              " 'forth',\n",
              " 'this',\n",
              " 'out',\n",
              " 'forth',\n",
              " 'that',\n",
              " 'the',\n",
              " 'which',\n",
              " 'whom',\n",
              " 'what',\n",
              " 'the',\n",
              " 'hence',\n",
              " 'this',\n",
              " 'Goneril',\n",
              " 'those',\n",
              " 'seasons',\n",
              " 'that',\n",
              " 'her',\n",
              " 'the',\n",
              " 'a',\n",
              " 'tawny',\n",
              " \"reason's\",\n",
              " 'my',\n",
              " 'which',\n",
              " 'my',\n",
              " 'the',\n",
              " \"women's\",\n",
              " 'whence',\n",
              " \"women's\",\n",
              " 'morn',\n",
              " 'what',\n",
              " 'Fife,',\n",
              " 'hence',\n",
              " 'this',\n",
              " 'thence',\n",
              " 'whom',\n",
              " 'the',\n",
              " 'this',\n",
              " 'whence',\n",
              " 'what',\n",
              " 'over-credulous',\n",
              " 'which',\n",
              " 'too',\n",
              " 'whom',\n",
              " 'his',\n",
              " 'fasting',\n",
              " 'thee;',\n",
              " \"flow'ry\",\n",
              " 'thine',\n",
              " 'such',\n",
              " 'our',\n",
              " 'such',\n",
              " 'the',\n",
              " 'the',\n",
              " 'whom',\n",
              " 'Tripolis,',\n",
              " 'Lisbon,',\n",
              " 'out',\n",
              " 'any',\n",
              " 'brassy',\n",
              " 'stubborn',\n",
              " 'both,',\n",
              " 'the',\n",
              " 'the',\n",
              " 'time',\n",
              " 'Athens',\n",
              " \"lovers'\",\n",
              " 'Perigouna,',\n",
              " 'our',\n",
              " 'sleeping',\n",
              " \"monster's\",\n",
              " 'these',\n",
              " 'off',\n",
              " 'the',\n",
              " 'my',\n",
              " 'Claudio,',\n",
              " 'men',\n",
              " 'year',\n",
              " 'her',\n",
              " 'him',\n",
              " 'one',\n",
              " 'jealousy!',\n",
              " 'whence',\n",
              " 'the',\n",
              " 'any',\n",
              " 'the',\n",
              " 'this',\n",
              " 'giving',\n",
              " 'where',\n",
              " 'forth',\n",
              " 'some',\n",
              " 'Ravenspurgh',\n",
              " 'the',\n",
              " 'forth',\n",
              " 'off',\n",
              " 'my',\n",
              " \"Richard's\",\n",
              " 'out',\n",
              " 'sun',\n",
              " \"plume-pluck'd\",\n",
              " 'which',\n",
              " 'whence',\n",
              " 'your',\n",
              " 'whence',\n",
              " 'cold',\n",
              " 'wayward',\n",
              " 'that',\n",
              " 'this',\n",
              " 'my',\n",
              " 'the',\n",
              " 'all',\n",
              " 'forth',\n",
              " 'which',\n",
              " 'all',\n",
              " 'Tamworth',\n",
              " 'the',\n",
              " 'ancient',\n",
              " 'forth',\n",
              " \"Love's\",\n",
              " 'forth',\n",
              " 'off',\n",
              " 'this',\n",
              " 'all',\n",
              " 'Florence,',\n",
              " 'mine',\n",
              " 'the',\n",
              " 'what',\n",
              " 'me,',\n",
              " 'bogs,',\n",
              " 'me',\n",
              " 'Milan',\n",
              " 'toe',\n",
              " 'eaves',\n",
              " 'strange',\n",
              " 'whence',\n",
              " 'Isidore:',\n",
              " 'our',\n",
              " 'forth',\n",
              " 'change',\n",
              " \"gen'ral\",\n",
              " 'high',\n",
              " 'Alcibiades',\n",
              " 'niggard',\n",
              " 'weary',\n",
              " 'where',\n",
              " 'whence',\n",
              " 'this',\n",
              " 'these',\n",
              " 'thousand',\n",
              " 'heaven!',\n",
              " 'isles',\n",
              " 'his',\n",
              " 'Troy.',\n",
              " \"Cupid's\",\n",
              " 'false',\n",
              " 'certain',\n",
              " 'Troy',\n",
              " 'heart',\n",
              " 'whence,',\n",
              " 'my',\n",
              " 'the',\n",
              " 'the',\n",
              " 'my',\n",
              " 'a',\n",
              " 'hence,',\n",
              " 'Milan.',\n",
              " 'whom?',\n",
              " 'my',\n",
              " 'heartiness,',\n",
              " 'east,',\n",
              " 'course',\n",
              " 'him',\n",
              " 'our',\n",
              " 'all',\n",
              " 'your',\n",
              " 'those',\n",
              " 'the',\n",
              " \"Dis's\",\n",
              " 'the',\n",
              " 'my',\n",
              " 'thy',\n",
              " 'off']"
            ]
          },
          "metadata": {},
          "execution_count": 9
        }
      ]
    },
    {
      "cell_type": "code",
      "source": [
        "practice['rose']"
      ],
      "metadata": {
        "id": "W5FCOXElICLb",
        "colab": {
          "base_uri": "https://localhost:8080/"
        },
        "outputId": "14bc7aa9-cf87-470e-dbe3-63afabb7ee52"
      },
      "execution_count": 10,
      "outputs": [
        {
          "output_type": "execute_result",
          "data": {
            "text/plain": [
              "['might',\n",
              " 'looks',\n",
              " 'is',\n",
              " 'of',\n",
              " 'Of',\n",
              " 'may',\n",
              " 'will',\n",
              " 'of',\n",
              " 'From',\n",
              " 'and',\n",
              " 'of',\n",
              " 'both',\n",
              " 'with',\n",
              " 'from',\n",
              " 'with',\n",
              " 'with',\n",
              " 'side.',\n",
              " 'red,',\n",
              " 'too.',\n",
              " 'in',\n",
              " 'a',\n",
              " 'a',\n",
              " 'I',\n",
              " 'against',\n",
              " 'that',\n",
              " 'and',\n",
              " 'from',\n",
              " 'again,',\n",
              " 'Lest',\n",
              " 'against',\n",
              " 'Than',\n",
              " \"distill'd\",\n",
              " 'on',\n",
              " 'up',\n",
              " 'in',\n",
              " 'wither.',\n",
              " 'and',\n",
              " 'By',\n",
              " 'again?',\n",
              " 'he']"
            ]
          },
          "metadata": {},
          "execution_count": 10
        }
      ]
    },
    {
      "cell_type": "code",
      "source": [
        "practice['rose.']"
      ],
      "metadata": {
        "id": "Vr57wNx5BO4K",
        "colab": {
          "base_uri": "https://localhost:8080/"
        },
        "outputId": "1ed75b5f-40e8-470e-d9c1-5bd09e475554"
      },
      "execution_count": 11,
      "outputs": [
        {
          "output_type": "execute_result",
          "data": {
            "text/plain": [
              "['It']"
            ]
          },
          "metadata": {},
          "execution_count": 11
        }
      ]
    },
    {
      "cell_type": "markdown",
      "source": [
        "## 2. `nextwords` for real:  new sentences.\n",
        "\n",
        "Next, write a new function called `createNextwords` which takes a `wordlist` and returns a dictionary of `nextwords`, but now with a new additional feature.  \n",
        "In addition to the keys from problem 1, add a special key to the dictionary, which will be the symbol '%'.  This key will signify the first word of a sentence. When scanning the wordlist to construct the `nextwords` dictionary, normally you would add `wordlist[i+1]` to the list `nextwords[wordlist[i]]`. However, if `wordlist[i]` ends with a period, then you should instead add `wordlist[i+1]` to the list nextwords['%']. Also add the very first word of `wordlist` to nextwords['%'].\n",
        "\n",
        "\n",
        "You should be able to produce this output:\n",
        "```\n",
        "> shakespeare_nextwords=createNextwords(shakespeare_words)\n",
        "> shakespeare_nextwords['Rose']\n",
        "['at', 'or', 'or', 'and']\n",
        "\n",
        "> shakespeare_nextwords['rose.']\n",
        "[]\n",
        "\n",
        "> len(shakespeare_nextwords['%'])\n",
        "76543\n",
        "```"
      ],
      "metadata": {
        "id": "t221x1X3iRVA"
      }
    },
    {
      "cell_type": "code",
      "source": [
        "def createNextwords(wordlist):\n",
        "  nextwords = {}\n",
        "  nextwords['%'] = [wordlist[0]]\n",
        "\n",
        "  for i in range(len(wordlist) - 1):\n",
        "      current_word = wordlist[i]\n",
        "      next_word = wordlist[i + 1]\n",
        "\n",
        "      if current_word.endswith('.'):\n",
        "          if '%' in nextwords:\n",
        "              nextwords['%'].append(next_word)\n",
        "          else:\n",
        "              nextwords['%'] = [next_word]\n",
        "          nextwords[current_word] = []\n",
        "      else:\n",
        "          if current_word in nextwords:\n",
        "              nextwords[current_word].append(next_word)\n",
        "          else:\n",
        "              nextwords[current_word] = [next_word]\n",
        "\n",
        "  return nextwords"
      ],
      "metadata": {
        "id": "Ze_-Uv2alRWX"
      },
      "execution_count": 12,
      "outputs": []
    },
    {
      "cell_type": "markdown",
      "source": [
        "Run the following code:"
      ],
      "metadata": {
        "id": "x7bamoxBlX6Q"
      }
    },
    {
      "cell_type": "code",
      "source": [
        "shakespeare_nextwords = createNextwords(shakespeare_words)\n",
        "\n",
        "print(shakespeare_nextwords['Rose'])\n",
        "print(len(shakespeare_nextwords['%']))"
      ],
      "metadata": {
        "id": "xv4ANlzvlZ2e",
        "colab": {
          "base_uri": "https://localhost:8080/"
        },
        "outputId": "52a597db-82c3-4737-b8fb-529e3d4741bb"
      },
      "execution_count": 13,
      "outputs": [
        {
          "output_type": "stream",
          "name": "stdout",
          "text": [
            "['at', 'or', 'or', 'and']\n",
            "76543\n"
          ]
        }
      ]
    },
    {
      "cell_type": "code",
      "source": [
        "print(len(shakespeare_nextwords['rose']))"
      ],
      "metadata": {
        "id": "NsLW7PYYCj1r",
        "colab": {
          "base_uri": "https://localhost:8080/"
        },
        "outputId": "8e84612a-1180-4697-e85c-1e4aa4e4f87a"
      },
      "execution_count": 14,
      "outputs": [
        {
          "output_type": "stream",
          "name": "stdout",
          "text": [
            "40\n"
          ]
        }
      ]
    },
    {
      "cell_type": "code",
      "source": [
        "print(shakespeare_nextwords['rose.'])"
      ],
      "metadata": {
        "id": "NyjLxUKiIPqG",
        "colab": {
          "base_uri": "https://localhost:8080/"
        },
        "outputId": "14b85e75-e68a-4ccb-fee3-ca7ad06994c1"
      },
      "execution_count": 15,
      "outputs": [
        {
          "output_type": "stream",
          "name": "stdout",
          "text": [
            "[]\n"
          ]
        }
      ]
    },
    {
      "cell_type": "markdown",
      "source": [
        "**3. Make your own Shakespeare play**\n",
        "\n",
        "Okay, that may be a bit of an exaggeration. Anyway, next up is text generation.\n",
        "We'll need the choice function:"
      ],
      "metadata": {
        "id": "wURugWi0SkIM"
      }
    },
    {
      "cell_type": "code",
      "source": [
        "from random import choice"
      ],
      "metadata": {
        "id": "rbBHDv55Biae"
      },
      "execution_count": 16,
      "outputs": []
    },
    {
      "cell_type": "markdown",
      "source": [
        "This function chooses a random element from a list.  Run this code a few times:"
      ],
      "metadata": {
        "id": "-vCM3Z0BmAw9"
      }
    },
    {
      "cell_type": "code",
      "source": [
        "choice([1, 17, 34, 289])"
      ],
      "metadata": {
        "colab": {
          "base_uri": "https://localhost:8080/"
        },
        "id": "FGMf-UmAl_uf",
        "outputId": "468f8a35-6546-4792-b1c3-468146e77c7d"
      },
      "execution_count": 17,
      "outputs": [
        {
          "output_type": "execute_result",
          "data": {
            "text/plain": [
              "289"
            ]
          },
          "metadata": {},
          "execution_count": 17
        }
      ]
    },
    {
      "cell_type": "markdown",
      "source": [
        "Now, create a function called `makePlay(nextwords,n)` which takes a dictionary `nextwords` and a number `n`, and follows these steps:\n",
        "1. Define an empty `newplay` string.  (I did this for you.)\n",
        "2. Set `currentword` equal to '%'.\n",
        "3. Start a for-loop that will run `n` times.\n",
        "4. Randomly choose a word from the list `nextwords[currentword]`.\n",
        "5. Add the chosen word to `newplay`, followed by a space `' '` character.\n",
        "6. If the chosen word ends in a period, add a newline character '\\n' and set `currentword` equal to `%`.\n",
        "7. Otherwise, set `currentword` equal to the chosen word.\n",
        "8. Go back to step 4.\n",
        "9. When all `n` iterations have finished, your function should return `newplay`."
      ],
      "metadata": {
        "id": "ZmLqxclQYMpl"
      }
    },
    {
      "cell_type": "code",
      "source": [
        "def makePlay(nextwords,n):\n",
        "  newplay=''\n",
        "  currentword = '%'\n",
        "  for _ in range(n):\n",
        "      if currentword not in nextwords or not nextwords[currentword]:\n",
        "          currentword = '%'\n",
        "          continue\n",
        "      chosen_word = choice(nextwords[currentword])\n",
        "\n",
        "      newplay += chosen_word + ' '\n",
        "\n",
        "      if chosen_word.endswith('.'):\n",
        "          newplay += '\\n'\n",
        "          currentword = '%'\n",
        "      else:\n",
        "          currentword = chosen_word\n",
        "\n",
        "  return newplay\n"
      ],
      "metadata": {
        "id": "gMxDF-MiYqD2"
      },
      "execution_count": 18,
      "outputs": []
    },
    {
      "cell_type": "markdown",
      "source": [
        "Now create a 1000 word Shakesperian play by running the following code:"
      ],
      "metadata": {
        "id": "v_uCxqDZtuhP"
      }
    },
    {
      "cell_type": "code",
      "source": [
        "nextwords=createNextwords(shakespeare_words)\n",
        "newplay=makePlay(nextwords,1000)\n",
        "print(newplay)"
      ],
      "metadata": {
        "id": "KVtzPXWWEdDR",
        "colab": {
          "base_uri": "https://localhost:8080/"
        },
        "outputId": "0b5d9906-55ed-49e4-be12-720cbc7d245b"
      },
      "execution_count": 19,
      "outputs": [
        {
          "output_type": "stream",
          "name": "stdout",
          "text": [
            "PROVOST. \n",
            "A SHIP BOATSWAIN MASTER. \n",
            "Pass our general MENELAUS, ULYSSES, DIOMEDES, TROILUS and made me. \n",
            "Come, the wenches may he loves, A merriment than noble man and earth with the watch. \n",
            "KING EDWARD. \n",
            "QUEEN. \n",
            "Rise, Titus, thou ow'st not; although, until we feel, to the stones new state by me; Behold and yield, Winchester; for you, a cloak? I be divided? Must I anatomize Among a golden sleep? VARRO. \n",
            "What I pray a stage, and show it; whereupon, after seven sons, what to th' event, then his birth. \n",
            "France. \n",
            "Ay, so fell a-doting, And is an oath, and when he comes. \n",
            "Romeo, good acts my foot, And youthful hose, a witty a mightier troops of nature's infinite tongue, who should Pour in her very fangs of deceits? ALICE. \n",
            "PHEBE. \n",
            "Then let him of Africa and that would say; I pray: sweet Hamlet! Lord bless thee more Upon these mutualities so plentifully gives it is stirring, worthy yet thy father. \n",
            "Where the rest I'd have made our supplications to be the King. \n",
            "The soil, the King miscarry. \n",
            "WILLIAMS. \n",
            "BOLINGBROKE. \n",
            "MOPSA. \n",
            "Come, give you fearful, that hath butchered. \n",
            "For to accuse doth the which way excuse shall fly After this blessed shall e'er I'll have in thy father's choice, War, death, to have no longer from hour Stand you anything, Though sometimes shuts up this proffer'd him half of his service. \n",
            "Servant! VALENTINE. \n",
            "Heigh-ho! sing, hey nony) And the time; be lead forth such perilous than with child Cordelia. \n",
            "CASSIUS. \n",
            "OXFORD. \n",
            "KATHARINE. \n",
            "GARDINER. \n",
            "Enter MARDIAN CLEOPATRA. \n",
            "Yonder comes here? I kiss She shall your country-woman. \n",
            "Let me the lover's, which he liked not good comfort. \n",
            "ANTONIO. \n",
            "IAGO. \n",
            "[To TAMORA] Madam, I have full height. \n",
            "Nurse. \n",
            "Does buy that right, Upon my woman's face- TAMORA. \n",
            "But was whipt out his seat themselves all the sheets, and parted. \n",
            "Where but a house. \n",
            "ELECTRONIC AND MACHINE READABLE COPIES (1) ARE NOT DISTRIBUTED OR USED COMMERCIALLY. \n",
            "An habitation giddy brains are my Cadwal, we pursu'd her hence in such a detesting lord. \n",
            "Exit Enter ANTONIO SEBASTIAN. \n",
            "You have by the DUKES OF THE COMPLETE WORKS OF SYRACUSE. \n",
            "Hear what he confess'd she falls it mine; And, since I will not seek't of love him. \n",
            "Lavinia, I some must restore. \n",
            "Par. \n",
            "You lie, Which was thy gilt o'er-dusted. \n",
            "Nurse!- What I find some two sons be very root away Alisander. \n",
            "Sir, you To grace will not trust no pain; the cramp, was survey'd by age, As one whose month before our story, And urge his tent Enter three swashers. \n",
            "EVANS. \n",
            "He would he not but with wine and low, grav'd in his boot and say nothing. \n",
            "Speak like the King my lord? KING HENRY. \n",
            "But wherefore should Do with us; and the KING, SALISBURY, and the male. \n",
            "The brother Cassius The fourth turn'd my brother Edward's heirs of Night, survey Of celebration keep his son; Then thus: We three daughters: the King? SHALLOW. \n",
            "Nay, I will lay my treason; And so seek her, alack, he From our rank with flowers, we'll forth to fear; Although, my pate. \n",
            "Haply this counterfeit of peace and death Our former ensign of fops Got in an If. \n",
            "But if your age, that thou drunk'st last. \n",
            "[Exit Bardolph.] Go, coward or what a queen For the hearing a soldier. \n",
            "[Draws] SIR NATHANIEL, and sweetly In weeping into the meshes of France is borne his helm A man is her bed, And all you say. \n",
            "1. \n",
            "Ay, say thou wouldst have been a sportive blood? Why, sir, you straight. \n",
            "Silence, good that pleas'd to send to behold themselves. \n",
            "What false one Mistress Anne do little learning and I know your father. \n",
            "Alas, sir, the swords and mean affairs of woe, Since birth deserve to obey your faithful verity. \n",
            "No, truly, you battle all my daughter's favour. \n",
            "ELECTRONIC VERSION OF YORK QUEEN KATHARINE. \n",
            "Had met ill becomes a rage. \n",
            "BASTARD. \n",
            "GREMIO. \n",
            "SCENE 2. \n",
            "Claud. \n",
            "If sleep not my lord; then 'tis by the truth, When I were moulded out with me, love, Angry that part them. \n",
            "Another part from your Grace's pleasure? CLEOPATRA. \n",
            "The dear sight For them! No, by the lady and to Pomfret, and ANTONIO and body is, The mart Home to heat as the Elephant, Is to mutiny Until her before his shroud- Things that I pray you soundly. \n",
            "'Why should smile, and till'd, with me by young Romeo? John. \n",
            "Was not money is; he longs to bid me not, I would be full of gold, the two ALDERMEN KING RICHARD III by permission, And to his own spirit; and join with frost. \n",
            "Why are so will be well When you From giving him by Jove's dread exploit, For shame! ANTIPHOLUS OF WILLIAM SHAKESPEARE IS COPYRIGHT 1990-1993 BY ANY SERVICE THAT CHARGES FOR MEMBERSHIP.>> ACT 1. \n",
            "PROHIBITED COMMERCIAL DISTRIBUTION INCLUDES BY WORLD LIBRARY, INC., AND MACHINE READABLE COPIES (1) ARE NOT DISTRIBUTED SO LONG AS SUCH COPIES (1) ARE FOR YOUR OR FOR MEMBERSHIP.>> ACT IV. \n",
            "More light, you know I count the voyage Is south and answer. \n",
            "To most unmitigable rage, the growth to be counted bright. \n",
            "Come, for my feet to heel. \n",
            "BOYET. \n",
            "Enter CUPID CUPID. \n",
            "Where is kill'd? EMILIA. \n",
            "O God! Exeunt Goneril, [Edmund, and in the cap of targets, or fire, Are now I prithee, Harry, you for what's worse, I will not what I was this nigh wreck'd upon him. \n",
            "When all to acquaint My lord? Gone? Let me to be my verdure out my eyes. \n",
            "Methinks the body and allowance to Somerset both return again for now they do. \n",
            "LUCY. \n",
            "Then spare not. \n",
            "HOSTESS. \n",
            "Therefore I am sure, there is past. \n",
            "How can you mark thee with child-a dumb shows you are devis'd, As with impatience. \n",
            "BUCKINGHAM. \n",
            "Hear you please him thither, and silence- Who hateth me. \n",
            "Ha? CAMILLO. \n",
            "o, behold Her face of their loss: For that bear those strong arms her grief; Therefore go send the wolf to Achilles, let me a man, defy augury; there's more dismal. \n",
            "[Music] JESSICA. \n",
            "Is she did \n"
          ]
        }
      ]
    },
    {
      "cell_type": "markdown",
      "source": [
        "At this point you might enjoy finding other sources of text on the internet and replacing the url at the top of this notebook. You can use song lyrics, news articles, etc. You just need to find files ending with '.txt'. Alternatively, you can copy and paste any block of text from any file into colab, assign it to the variable `text`, and then use wordlist=text.split() to get a list of words."
      ],
      "metadata": {
        "id": "cHcYHBcNu65y"
      }
    },
    {
      "cell_type": "markdown",
      "source": [
        "## Bonus:\n",
        "\n",
        "Recall the following recursive function that we used to define the Fibonacci numbers:"
      ],
      "metadata": {
        "id": "SOZ_vzwJoG45"
      }
    },
    {
      "cell_type": "code",
      "source": [
        "def fibonacci(n):\n",
        "  # Base cases: F(0) = 0, F(1) = 1\n",
        "  if n == 0:\n",
        "    return 0\n",
        "  elif n == 1:\n",
        "    return 1\n",
        "  else:\n",
        "    # Recursive case: F(n) = F(n-1) + F(n-2)\n",
        "    return fibonacci(n - 1) + fibonacci(n - 2)\n",
        "\n",
        "fibonacci(17)\n"
      ],
      "metadata": {
        "id": "KTj2L--_oQDu",
        "colab": {
          "base_uri": "https://localhost:8080/"
        },
        "outputId": "1a9b3f68-2201-496f-a9e6-61c3e1f00103"
      },
      "execution_count": 20,
      "outputs": [
        {
          "output_type": "execute_result",
          "data": {
            "text/plain": [
              "1597"
            ]
          },
          "metadata": {},
          "execution_count": 20
        }
      ]
    },
    {
      "cell_type": "markdown",
      "source": [
        "Here is the question.  If you run this line of code:  \n",
        "`fibonacci(17)`  \n",
        "how many times does the function `fibonacci()` get called?  \n",
        "(The answer is not 1597, which is the value returned by the function.)"
      ],
      "metadata": {
        "id": "C-PtiPKwod0m"
      }
    },
    {
      "cell_type": "code",
      "source": [
        "def fibonacci_calls(n):\n",
        "    if n == 0:\n",
        "        return 1\n",
        "    elif n == 1:\n",
        "        return 1\n",
        "    else:\n",
        "        return 1 + fibonacci_calls(n - 1) + fibonacci_calls(n - 2)\n",
        "\n",
        "fibonacci_calls(17)\n",
        "\n",
        "# The function gets called 5167 times. this happens because each call of the function\n",
        "# leads to two more calls until it reaches the base cases, causing a rapid increase in\n",
        "# total calls due to the recursive function."
      ],
      "metadata": {
        "colab": {
          "base_uri": "https://localhost:8080/"
        },
        "id": "7Uv3aO7ShtTB",
        "outputId": "9fc07e74-2df3-460e-cb81-c7c8dc69102f"
      },
      "execution_count": 26,
      "outputs": [
        {
          "output_type": "execute_result",
          "data": {
            "text/plain": [
              "5167"
            ]
          },
          "metadata": {},
          "execution_count": 26
        }
      ]
    },
    {
      "cell_type": "markdown",
      "source": [
        "Reference:\n",
        "\n",
        "[Counts](https://stackoverflow.com/questions/54714945/create-a-function-that-will-increment-by-one-when-called)"
      ],
      "metadata": {
        "id": "F9J3aEJuk4GY"
      }
    }
  ]
}